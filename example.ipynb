{
 "cells": [
  {
   "cell_type": "markdown",
   "metadata": {},
   "source": [
    "# Example for ipywidget_volume_slicer"
   ]
  },
  {
   "cell_type": "code",
   "execution_count": 35,
   "metadata": {},
   "outputs": [],
   "source": [
    "### Download sample volume\n",
    "import urllib.request\n",
    "\n",
    "def download_sci_brain_mri():\n",
    "    url = \"https://www.sci.utah.edu/releases/seg3d_v2.0.3/MRI-brain50.nrrd\"\n",
    "    filename = \"MRI-brain50.nrrd\"\n",
    "    return urllib.request.urlretrieve(url, filename)\n",
    "\n",
    "filename, response = download_sci_brain_mri()"
   ]
  },
  {
   "cell_type": "code",
   "execution_count": 36,
   "metadata": {},
   "outputs": [
    {
     "name": "stdout",
     "output_type": "stream",
     "text": [
      "vol.dtype: float32\n",
      "vol.shape: (232, 160, 160)\n"
     ]
    }
   ],
   "source": [
    "# Read sample volume\n",
    "import nrrd\n",
    "\n",
    "vol, header = nrrd.read(filename)\n",
    "\n",
    "vol = vol.transpose([1,0,2])[:,:,::-1]\n",
    "\n",
    "print(\"vol.dtype:\", vol.dtype)\n",
    "print(\"vol.shape:\", vol.shape)"
   ]
  },
  {
   "cell_type": "code",
   "execution_count": 34,
   "metadata": {},
   "outputs": [
    {
     "data": {
      "application/vnd.jupyter.widget-view+json": {
       "model_id": "9446a6a1eee444408ba6a139e8a69eaa",
       "version_major": 2,
       "version_minor": 0
      },
      "text/plain": [
       "interactive(children=(ToggleButtons(description='Slice plane:', options=('x-y', 'y-z', 'z-x'), value='x-y'), O…"
      ]
     },
     "metadata": {},
     "output_type": "display_data"
    },
    {
     "data": {
      "application/vnd.jupyter.widget-view+json": {
       "model_id": "3cc4f18b00f643198d17d3d64d71eab3",
       "version_major": 2,
       "version_minor": 0
      },
      "text/plain": [
       "interactive(children=(IntSlider(value=79, description='Image Slice:', max=159), Output(layout=Layout(height='5…"
      ]
     },
     "metadata": {},
     "output_type": "display_data"
    },
    {
     "data": {
      "text/plain": [
       "<ipywidget_volume_slicer.VolumeSlicerWidget3D at 0x2929c0090>"
      ]
     },
     "execution_count": 34,
     "metadata": {},
     "output_type": "execute_result"
    }
   ],
   "source": [
    "from ipywidget_volume_slicer import VolumeSlicerWidget3D\n",
    "\n",
    "VolumeSlicerWidget3D(vol, cmap='gray')"
   ]
  }
 ],
 "metadata": {
  "kernelspec": {
   "display_name": "Python 3",
   "language": "python",
   "name": "python3"
  },
  "language_info": {
   "codemirror_mode": {
    "name": "ipython",
    "version": 3
   },
   "file_extension": ".py",
   "mimetype": "text/x-python",
   "name": "python",
   "nbconvert_exporter": "python",
   "pygments_lexer": "ipython3",
   "version": "3.11.7"
  }
 },
 "nbformat": 4,
 "nbformat_minor": 2
}
